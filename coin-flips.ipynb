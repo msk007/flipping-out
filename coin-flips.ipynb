{
 "cells": [
  {
   "cell_type": "code",
   "execution_count": 1,
   "metadata": {
    "collapsed": false
   },
   "outputs": [],
   "source": [
    "import matplotlib.pyplot as plt\n",
    "import random\n",
    "import math\n",
    "import statistics as st\n",
    "\n",
    "\n",
    "\n",
    "def num_flips():\n",
    "    n = int\n",
    "    return n\n",
    "def flip_sim(n=2**16):\n",
    "    heads = 0\n",
    "    tails = 0\n",
    "    for int in range(n):\n",
    "        if random.randint(1,2) == 1:\n",
    "            heads += 1\n",
    "        else:\n",
    "            tails += 1\n",
    "        \n",
    "            \n",
    "        return (heads, tails)\n",
    "  \n",
    "def flip_results(heads, tails):\n",
    "    flip_results=[]\n",
    "    flip_results=flip_results.append((heads, tails))"
   ]
  },
  {
   "cell_type": "code",
   "execution_count": null,
   "metadata": {
    "collapsed": true
   },
   "outputs": [],
   "source": []
  },
  {
   "cell_type": "code",
   "execution_count": null,
   "metadata": {
    "collapsed": true
   },
   "outputs": [],
   "source": []
  }
 ],
 "metadata": {
  "kernelspec": {
   "display_name": "Python 3",
   "language": "python",
   "name": "python3"
  },
  "language_info": {
   "codemirror_mode": {
    "name": "ipython",
    "version": 3
   },
   "file_extension": ".py",
   "mimetype": "text/x-python",
   "name": "python",
   "nbconvert_exporter": "python",
   "pygments_lexer": "ipython3",
   "version": "3.4.3"
  }
 },
 "nbformat": 4,
 "nbformat_minor": 0
}
